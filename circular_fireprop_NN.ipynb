{
  "nbformat": 4,
  "nbformat_minor": 0,
  "metadata": {
    "colab": {
      "provenance": []
    },
    "kernelspec": {
      "name": "python3",
      "display_name": "Python 3"
    },
    "language_info": {
      "name": "python"
    }
  },
  "cells": [
    {
      "cell_type": "markdown",
      "source": [
        "## Dependencies"
      ],
      "metadata": {
        "id": "Ry_4vW0w_BN_"
      }
    },
    {
      "cell_type": "code",
      "execution_count": null,
      "metadata": {
        "id": "A2hvJmoE4d6R"
      },
      "outputs": [],
      "source": [
        "import torch\n",
        "import torch.nn as nn\n",
        "import torch.optim as optim\n",
        "from sklearn.ensemble import RandomForestRegressor"
      ]
    },
    {
      "cell_type": "markdown",
      "source": [
        "## Neural Network with 1 hidden layer"
      ],
      "metadata": {
        "id": "RDdKkNqd_G8p"
      }
    },
    {
      "cell_type": "code",
      "source": [
        "# Simple MLP (Multi-Layer Perceptron)\n",
        "class ScalingFactorPredictor(nn.Module):\n",
        "\n",
        "  def __init__(self, input_size, hidden_size, output_size):\n",
        "\n",
        "    super().__init__()\n",
        "    self.fc1 = nn.Linear(input_size, hidden_size)  # First layer\n",
        "    self.relu = nn.ReLU()                          # Activation function (can try different ones)\n",
        "    self.fc2 = nn.Linear(hidden_size, output_size) # Output layer\n",
        "\n",
        "    def forward(self, x):\n",
        "        out = self.fc1(x)\n",
        "        out = self.relu(out)\n",
        "        out = self.fc2(out)\n",
        "        return out"
      ],
      "metadata": {
        "id": "nTx46js75SV2"
      },
      "execution_count": null,
      "outputs": []
    },
    {
      "cell_type": "markdown",
      "source": [
        "## Random Forest"
      ],
      "metadata": {
        "id": "Xj2ih6DT_M07"
      }
    },
    {
      "cell_type": "code",
      "source": [
        "# Random forest regression model\n",
        "\n",
        "rf_reg = RandomForestRegressor(n_estimators=100)"
      ],
      "metadata": {
        "id": "YYYpcC_B-Ss3"
      },
      "execution_count": null,
      "outputs": []
    },
    {
      "cell_type": "markdown",
      "source": [
        "## Data Processing Stuff (TBD)"
      ],
      "metadata": {
        "id": "ilV_ZQR7_AbW"
      }
    }
  ]
}